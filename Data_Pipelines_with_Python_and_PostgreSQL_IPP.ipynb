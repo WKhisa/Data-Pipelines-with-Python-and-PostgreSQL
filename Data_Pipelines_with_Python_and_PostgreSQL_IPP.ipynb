{
  "nbformat": 4,
  "nbformat_minor": 0,
  "metadata": {
    "colab": {
      "provenance": [],
      "authorship_tag": "ABX9TyPkLrvmWfGso5jLTHibZkhu",
      "include_colab_link": true
    },
    "kernelspec": {
      "name": "python3",
      "display_name": "Python 3"
    },
    "language_info": {
      "name": "python"
    }
  },
  "cells": [
    {
      "cell_type": "markdown",
      "metadata": {
        "id": "view-in-github",
        "colab_type": "text"
      },
      "source": [
        "<a href=\"https://colab.research.google.com/github/WKhisa/Data-Pipelines-with-Python-and-PostgreSQL/blob/main/Data_Pipelines_with_Python_and_PostgreSQL_IPP.ipynb\" target=\"_parent\"><img src=\"https://colab.research.google.com/assets/colab-badge.svg\" alt=\"Open In Colab\"/></a>"
      ]
    },
    {
      "cell_type": "code",
      "execution_count": null,
      "metadata": {
        "id": "yaueeg0_16pn"
      },
      "outputs": [],
      "source": []
    }
  ]
}